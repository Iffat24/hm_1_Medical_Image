{
  "nbformat": 4,
  "nbformat_minor": 0,
  "metadata": {
    "colab": {
      "provenance": [],
      "include_colab_link": true
    },
    "kernelspec": {
      "name": "python3",
      "display_name": "Python 3"
    },
    "language_info": {
      "name": "python"
    }
  },
  "cells": [
    {
      "cell_type": "markdown",
      "metadata": {
        "id": "view-in-github",
        "colab_type": "text"
      },
      "source": [
        "<a href=\"https://colab.research.google.com/github/Iffat24/hm_1_Medical_Image/blob/main/asssignment_1.ipynb\" target=\"_parent\"><img src=\"https://colab.research.google.com/assets/colab-badge.svg\" alt=\"Open In Colab\"/></a>"
      ]
    },
    {
      "cell_type": "code",
      "execution_count": null,
      "metadata": {
        "id": "rjMpo5Hwu5Qm"
      },
      "outputs": [],
      "source": [
        "import numpy as np\n",
        "\n",
        "def sum_squares(a,b):\n",
        "  return a**2 + b**2\n",
        "\n"
      ]
    },
    {
      "cell_type": "code",
      "source": [
        "#return Yes if( A and B) and (C xor A)\n",
        "def ifs_one(A,B,C):\n",
        "  if (A and B) and (C ^ A):\n",
        "    return True\n",
        "  else:\n",
        "    return False"
      ],
      "metadata": {
        "id": "GXpuu7gRwuAj"
      },
      "execution_count": null,
      "outputs": []
    },
    {
      "cell_type": "code",
      "source": [
        "def generate_sequence(N):\n",
        "    if N <= 2:\n",
        "        return 0\n",
        "    else:\n",
        "        sequence = []\n",
        "        for i in range(2, N + 1):\n",
        "            sequence.append(2 * i + (i - 1))\n",
        "        return sequence\n",
        "\n",
        "# Example usage\n",
        "N = 10\n",
        "result = generate_sequence(N)\n",
        "print(result)\n"
      ],
      "metadata": {
        "id": "O3ZPo7Mk4E3d",
        "outputId": "248daeb9-485e-4b9a-c3ea-648e17528af6",
        "colab": {
          "base_uri": "https://localhost:8080/"
        }
      },
      "execution_count": 1,
      "outputs": [
        {
          "output_type": "stream",
          "name": "stdout",
          "text": [
            "[5, 8, 11, 14, 17, 20, 23, 26, 29]\n"
          ]
        }
      ]
    }
  ]
}