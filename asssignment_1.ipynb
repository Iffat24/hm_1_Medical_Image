{
  "nbformat": 4,
  "nbformat_minor": 0,
  "metadata": {
    "colab": {
      "provenance": [],
      "authorship_tag": "ABX9TyP43e1m1xx63Y/ZwuHU+5Oq",
      "include_colab_link": true
    },
    "kernelspec": {
      "name": "python3",
      "display_name": "Python 3"
    },
    "language_info": {
      "name": "python"
    }
  },
  "cells": [
    {
      "cell_type": "markdown",
      "metadata": {
        "id": "view-in-github",
        "colab_type": "text"
      },
      "source": [
        "<a href=\"https://colab.research.google.com/github/kaikaichenzehao/hm_1_Medical_Image/blob/main/asssignment_1.ipynb\" target=\"_parent\"><img src=\"https://colab.research.google.com/assets/colab-badge.svg\" alt=\"Open In Colab\"/></a>"
      ]
    },
    {
      "cell_type": "code",
      "execution_count": null,
      "metadata": {
        "id": "rjMpo5Hwu5Qm"
      },
      "outputs": [],
      "source": [
        "import numpy as np\n",
        "\n",
        "def sum_squares(a,b):\n",
        "  return a**2 + b**2\n",
        "\n"
      ]
    },
    {
      "cell_type": "code",
      "source": [
        "#return Yes if( A and B) and (C xor A)\n",
        "def ifs_one(A,B,C):\n",
        "  if (A and B) and (C ^ A):\n",
        "    return True\n",
        "  else:\n",
        "    return False"
      ],
      "metadata": {
        "id": "GXpuu7gRwuAj"
      },
      "execution_count": null,
      "outputs": []
    }
  ]
}